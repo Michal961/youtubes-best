{
 "cells": [
  {
   "cell_type": "code",
   "execution_count": 1,
   "id": "7261f501",
   "metadata": {},
   "outputs": [],
   "source": [
    "import pandas as pd\n",
    "import matplotlib.pyplot as plt\n",
    "from matplotlib.ticker import ScalarFormatter"
   ]
  },
  {
   "cell_type": "code",
   "execution_count": 27,
   "id": "76558816",
   "metadata": {},
   "outputs": [],
   "source": [
    "Best = pd.read_csv('youtubeData.csv',encoding='utf8')"
   ]
  },
  {
   "cell_type": "code",
   "execution_count": 3,
   "id": "0104e96c",
   "metadata": {},
   "outputs": [
    {
     "name": "stdout",
     "output_type": "stream",
     "text": [
      " ─  ─  ─  ─  ─  ─  ─  ─  ─  ─  ─  ─  ─  ─  ─  ─  ─  ─  ─  ─  ─  ─  ─  ─  ─  ─  ─  ─  ─  ─ \n",
      " ─  ─  ─  ─  ─  ─  ─  ─  ─  ─  ─  ─  Some Statistics:  ─  ─  ─  ─  ─  ─  ─  ─  ─  ─  ─  ─ \n",
      " ─  ─  ─  ─  ─  ─  ─  ─  ─  ─  ─  ─  ─  ─  ─  ─  ─  ─  ─  ─  ─  ─  ─  ─  ─  ─  ─  ─  ─  ─ \n"
     ]
    }
   ],
   "source": [
    "print(' ─ ' * 30)\n",
    "print(' ─ ' * 12, 'Some Statistics:', ' ─ ' * 12)\n",
    "print(' ─ ' * 30)"
   ]
  },
  {
   "cell_type": "code",
   "execution_count": 4,
   "id": "14c884fc",
   "metadata": {},
   "outputs": [
    {
     "name": "stdout",
     "output_type": "stream",
     "text": [
      "<class 'pandas.core.frame.DataFrame'>\n",
      "RangeIndex: 10 entries, 0 to 9\n",
      "Data columns (total 9 columns):\n",
      " #   Column       Non-Null Count  Dtype \n",
      "---  ------       --------------  ----- \n",
      " 0   rank         10 non-null     int64 \n",
      " 1   name         10 non-null     object\n",
      " 2   date         10 non-null     object\n",
      " 3   views        10 non-null     int64 \n",
      " 4   likes        10 non-null     int64 \n",
      " 5   dislikes     10 non-null     int64 \n",
      " 6   comments     10 non-null     int64 \n",
      " 7   channel      10 non-null     object\n",
      " 8   subscribers  10 non-null     int64 \n",
      "dtypes: int64(6), object(3)\n",
      "memory usage: 848.0+ bytes\n"
     ]
    }
   ],
   "source": [
    "Best.info()"
   ]
  },
  {
   "cell_type": "code",
   "execution_count": 5,
   "id": "5669115f",
   "metadata": {},
   "outputs": [
    {
     "data": {
      "text/plain": [
       "(10, 9)"
      ]
     },
     "execution_count": 5,
     "metadata": {},
     "output_type": "execute_result"
    }
   ],
   "source": [
    "Best.shape"
   ]
  },
  {
   "cell_type": "code",
   "execution_count": 6,
   "id": "fe716063",
   "metadata": {},
   "outputs": [
    {
     "data": {
      "text/html": [
       "<div>\n",
       "<style scoped>\n",
       "    .dataframe tbody tr th:only-of-type {\n",
       "        vertical-align: middle;\n",
       "    }\n",
       "\n",
       "    .dataframe tbody tr th {\n",
       "        vertical-align: top;\n",
       "    }\n",
       "\n",
       "    .dataframe thead th {\n",
       "        text-align: right;\n",
       "    }\n",
       "</style>\n",
       "<table border=\"1\" class=\"dataframe\">\n",
       "  <thead>\n",
       "    <tr style=\"text-align: right;\">\n",
       "      <th></th>\n",
       "      <th>rank</th>\n",
       "      <th>views</th>\n",
       "      <th>likes</th>\n",
       "      <th>dislikes</th>\n",
       "      <th>comments</th>\n",
       "      <th>subscribers</th>\n",
       "    </tr>\n",
       "  </thead>\n",
       "  <tbody>\n",
       "    <tr>\n",
       "      <th>count</th>\n",
       "      <td>10.00000</td>\n",
       "      <td>1.000000e+01</td>\n",
       "      <td>1.000000e+01</td>\n",
       "      <td>1.000000e+01</td>\n",
       "      <td>1.000000e+01</td>\n",
       "      <td>1.000000e+01</td>\n",
       "    </tr>\n",
       "    <tr>\n",
       "      <th>mean</th>\n",
       "      <td>5.50000</td>\n",
       "      <td>4.473391e+09</td>\n",
       "      <td>2.243306e+07</td>\n",
       "      <td>2.029262e+06</td>\n",
       "      <td>1.635932e+06</td>\n",
       "      <td>3.068900e+06</td>\n",
       "    </tr>\n",
       "    <tr>\n",
       "      <th>std</th>\n",
       "      <td>3.02765</td>\n",
       "      <td>1.343845e+09</td>\n",
       "      <td>1.128491e+07</td>\n",
       "      <td>1.771025e+06</td>\n",
       "      <td>1.716638e+06</td>\n",
       "      <td>1.852695e+06</td>\n",
       "    </tr>\n",
       "    <tr>\n",
       "      <th>min</th>\n",
       "      <td>1.00000</td>\n",
       "      <td>3.439023e+09</td>\n",
       "      <td>1.405395e+07</td>\n",
       "      <td>4.471890e+05</td>\n",
       "      <td>4.071630e+05</td>\n",
       "      <td>6.260000e+05</td>\n",
       "    </tr>\n",
       "    <tr>\n",
       "      <th>25%</th>\n",
       "      <td>3.25000</td>\n",
       "      <td>3.509370e+09</td>\n",
       "      <td>1.466488e+07</td>\n",
       "      <td>9.980330e+05</td>\n",
       "      <td>5.974162e+05</td>\n",
       "      <td>1.772500e+06</td>\n",
       "    </tr>\n",
       "    <tr>\n",
       "      <th>50%</th>\n",
       "      <td>5.50000</td>\n",
       "      <td>3.969340e+09</td>\n",
       "      <td>1.623799e+07</td>\n",
       "      <td>1.211130e+06</td>\n",
       "      <td>8.026155e+05</td>\n",
       "      <td>2.885000e+06</td>\n",
       "    </tr>\n",
       "    <tr>\n",
       "      <th>75%</th>\n",
       "      <td>7.75000</td>\n",
       "      <td>5.080230e+09</td>\n",
       "      <td>2.706286e+07</td>\n",
       "      <td>2.582554e+06</td>\n",
       "      <td>1.877333e+06</td>\n",
       "      <td>4.012499e+06</td>\n",
       "    </tr>\n",
       "    <tr>\n",
       "      <th>max</th>\n",
       "      <td>10.00000</td>\n",
       "      <td>7.621392e+09</td>\n",
       "      <td>4.652549e+07</td>\n",
       "      <td>5.187451e+06</td>\n",
       "      <td>5.289442e+06</td>\n",
       "      <td>6.609999e+06</td>\n",
       "    </tr>\n",
       "  </tbody>\n",
       "</table>\n",
       "</div>"
      ],
      "text/plain": [
       "           rank         views         likes      dislikes      comments  \\\n",
       "count  10.00000  1.000000e+01  1.000000e+01  1.000000e+01  1.000000e+01   \n",
       "mean    5.50000  4.473391e+09  2.243306e+07  2.029262e+06  1.635932e+06   \n",
       "std     3.02765  1.343845e+09  1.128491e+07  1.771025e+06  1.716638e+06   \n",
       "min     1.00000  3.439023e+09  1.405395e+07  4.471890e+05  4.071630e+05   \n",
       "25%     3.25000  3.509370e+09  1.466488e+07  9.980330e+05  5.974162e+05   \n",
       "50%     5.50000  3.969340e+09  1.623799e+07  1.211130e+06  8.026155e+05   \n",
       "75%     7.75000  5.080230e+09  2.706286e+07  2.582554e+06  1.877333e+06   \n",
       "max    10.00000  7.621392e+09  4.652549e+07  5.187451e+06  5.289442e+06   \n",
       "\n",
       "        subscribers  \n",
       "count  1.000000e+01  \n",
       "mean   3.068900e+06  \n",
       "std    1.852695e+06  \n",
       "min    6.260000e+05  \n",
       "25%    1.772500e+06  \n",
       "50%    2.885000e+06  \n",
       "75%    4.012499e+06  \n",
       "max    6.609999e+06  "
      ]
     },
     "execution_count": 6,
     "metadata": {},
     "output_type": "execute_result"
    }
   ],
   "source": [
    "Best.describe()"
   ]
  },
  {
   "cell_type": "code",
   "execution_count": 7,
   "id": "3aae01c9",
   "metadata": {},
   "outputs": [],
   "source": [
    "pd.set_option('display.float_format', lambda x: '%.0f' % x)"
   ]
  },
  {
   "cell_type": "code",
   "execution_count": 8,
   "id": "b9577d1b",
   "metadata": {},
   "outputs": [
    {
     "data": {
      "text/html": [
       "<div>\n",
       "<style scoped>\n",
       "    .dataframe tbody tr th:only-of-type {\n",
       "        vertical-align: middle;\n",
       "    }\n",
       "\n",
       "    .dataframe tbody tr th {\n",
       "        vertical-align: top;\n",
       "    }\n",
       "\n",
       "    .dataframe thead th {\n",
       "        text-align: right;\n",
       "    }\n",
       "</style>\n",
       "<table border=\"1\" class=\"dataframe\">\n",
       "  <thead>\n",
       "    <tr style=\"text-align: right;\">\n",
       "      <th></th>\n",
       "      <th>rank</th>\n",
       "      <th>views</th>\n",
       "      <th>likes</th>\n",
       "      <th>dislikes</th>\n",
       "      <th>comments</th>\n",
       "      <th>subscribers</th>\n",
       "    </tr>\n",
       "  </thead>\n",
       "  <tbody>\n",
       "    <tr>\n",
       "      <th>count</th>\n",
       "      <td>10</td>\n",
       "      <td>10</td>\n",
       "      <td>10</td>\n",
       "      <td>10</td>\n",
       "      <td>10</td>\n",
       "      <td>10</td>\n",
       "    </tr>\n",
       "    <tr>\n",
       "      <th>mean</th>\n",
       "      <td>6</td>\n",
       "      <td>4473391345</td>\n",
       "      <td>22433063</td>\n",
       "      <td>2029262</td>\n",
       "      <td>1635932</td>\n",
       "      <td>3068900</td>\n",
       "    </tr>\n",
       "    <tr>\n",
       "      <th>std</th>\n",
       "      <td>3</td>\n",
       "      <td>1343845447</td>\n",
       "      <td>11284908</td>\n",
       "      <td>1771025</td>\n",
       "      <td>1716638</td>\n",
       "      <td>1852695</td>\n",
       "    </tr>\n",
       "    <tr>\n",
       "      <th>min</th>\n",
       "      <td>1</td>\n",
       "      <td>3439022951</td>\n",
       "      <td>14053949</td>\n",
       "      <td>447189</td>\n",
       "      <td>407163</td>\n",
       "      <td>626000</td>\n",
       "    </tr>\n",
       "    <tr>\n",
       "      <th>25%</th>\n",
       "      <td>3</td>\n",
       "      <td>3509370302</td>\n",
       "      <td>14664882</td>\n",
       "      <td>998033</td>\n",
       "      <td>597416</td>\n",
       "      <td>1772500</td>\n",
       "    </tr>\n",
       "    <tr>\n",
       "      <th>50%</th>\n",
       "      <td>6</td>\n",
       "      <td>3969340394</td>\n",
       "      <td>16237986</td>\n",
       "      <td>1211130</td>\n",
       "      <td>802616</td>\n",
       "      <td>2885000</td>\n",
       "    </tr>\n",
       "    <tr>\n",
       "      <th>75%</th>\n",
       "      <td>8</td>\n",
       "      <td>5080229897</td>\n",
       "      <td>27062857</td>\n",
       "      <td>2582554</td>\n",
       "      <td>1877333</td>\n",
       "      <td>4012499</td>\n",
       "    </tr>\n",
       "    <tr>\n",
       "      <th>max</th>\n",
       "      <td>10</td>\n",
       "      <td>7621391945</td>\n",
       "      <td>46525492</td>\n",
       "      <td>5187451</td>\n",
       "      <td>5289442</td>\n",
       "      <td>6609999</td>\n",
       "    </tr>\n",
       "  </tbody>\n",
       "</table>\n",
       "</div>"
      ],
      "text/plain": [
       "       rank      views    likes  dislikes  comments  subscribers\n",
       "count    10         10       10        10        10           10\n",
       "mean      6 4473391345 22433063   2029262   1635932      3068900\n",
       "std       3 1343845447 11284908   1771025   1716638      1852695\n",
       "min       1 3439022951 14053949    447189    407163       626000\n",
       "25%       3 3509370302 14664882    998033    597416      1772500\n",
       "50%       6 3969340394 16237986   1211130    802616      2885000\n",
       "75%       8 5080229897 27062857   2582554   1877333      4012499\n",
       "max      10 7621391945 46525492   5187451   5289442      6609999"
      ]
     },
     "execution_count": 8,
     "metadata": {},
     "output_type": "execute_result"
    }
   ],
   "source": [
    "Best.describe()"
   ]
  },
  {
   "cell_type": "code",
   "execution_count": 9,
   "id": "b9b2f6a2",
   "metadata": {},
   "outputs": [
    {
     "data": {
      "text/plain": [
       "count           10\n",
       "mean    4473391345\n",
       "std     1343845447\n",
       "min     3439022951\n",
       "25%     3509370302\n",
       "50%     3969340394\n",
       "75%     5080229897\n",
       "max     7621391945\n",
       "Name: views, dtype: float64"
      ]
     },
     "execution_count": 9,
     "metadata": {},
     "output_type": "execute_result"
    }
   ],
   "source": [
    "Best['views'].describe()"
   ]
  },
  {
   "cell_type": "code",
   "execution_count": 10,
   "id": "86263fa1",
   "metadata": {},
   "outputs": [
    {
     "data": {
      "text/html": [
       "<div>\n",
       "<style scoped>\n",
       "    .dataframe tbody tr th:only-of-type {\n",
       "        vertical-align: middle;\n",
       "    }\n",
       "\n",
       "    .dataframe tbody tr th {\n",
       "        vertical-align: top;\n",
       "    }\n",
       "\n",
       "    .dataframe thead th {\n",
       "        text-align: right;\n",
       "    }\n",
       "</style>\n",
       "<table border=\"1\" class=\"dataframe\">\n",
       "  <thead>\n",
       "    <tr style=\"text-align: right;\">\n",
       "      <th></th>\n",
       "      <th>views</th>\n",
       "      <th>likes</th>\n",
       "    </tr>\n",
       "  </thead>\n",
       "  <tbody>\n",
       "    <tr>\n",
       "      <th>count</th>\n",
       "      <td>10</td>\n",
       "      <td>10</td>\n",
       "    </tr>\n",
       "    <tr>\n",
       "      <th>mean</th>\n",
       "      <td>4473391345</td>\n",
       "      <td>22433063</td>\n",
       "    </tr>\n",
       "    <tr>\n",
       "      <th>std</th>\n",
       "      <td>1343845447</td>\n",
       "      <td>11284908</td>\n",
       "    </tr>\n",
       "    <tr>\n",
       "      <th>min</th>\n",
       "      <td>3439022951</td>\n",
       "      <td>14053949</td>\n",
       "    </tr>\n",
       "    <tr>\n",
       "      <th>25%</th>\n",
       "      <td>3509370302</td>\n",
       "      <td>14664882</td>\n",
       "    </tr>\n",
       "    <tr>\n",
       "      <th>50%</th>\n",
       "      <td>3969340394</td>\n",
       "      <td>16237986</td>\n",
       "    </tr>\n",
       "    <tr>\n",
       "      <th>75%</th>\n",
       "      <td>5080229897</td>\n",
       "      <td>27062857</td>\n",
       "    </tr>\n",
       "    <tr>\n",
       "      <th>max</th>\n",
       "      <td>7621391945</td>\n",
       "      <td>46525492</td>\n",
       "    </tr>\n",
       "  </tbody>\n",
       "</table>\n",
       "</div>"
      ],
      "text/plain": [
       "           views    likes\n",
       "count         10       10\n",
       "mean  4473391345 22433063\n",
       "std   1343845447 11284908\n",
       "min   3439022951 14053949\n",
       "25%   3509370302 14664882\n",
       "50%   3969340394 16237986\n",
       "75%   5080229897 27062857\n",
       "max   7621391945 46525492"
      ]
     },
     "execution_count": 10,
     "metadata": {},
     "output_type": "execute_result"
    }
   ],
   "source": [
    "Best[['views', 'likes']].describe()"
   ]
  },
  {
   "cell_type": "code",
   "execution_count": 11,
   "id": "b90ad5a7",
   "metadata": {},
   "outputs": [
    {
     "data": {
      "text/plain": [
       "rank                   3\n",
       "views         1343845447\n",
       "likes           11284908\n",
       "dislikes         1771025\n",
       "comments         1716638\n",
       "subscribers      1852695\n",
       "dtype: float64"
      ]
     },
     "execution_count": 11,
     "metadata": {},
     "output_type": "execute_result"
    }
   ],
   "source": [
    "Best.std()"
   ]
  },
  {
   "cell_type": "code",
   "execution_count": 12,
   "id": "a8d66b20",
   "metadata": {},
   "outputs": [
    {
     "name": "stdout",
     "output_type": "stream",
     "text": [
      " ─  ─  ─  ─  ─  ─  ─  ─  ─  ─  ─  ─  ─  ─  ─  ─  ─  ─  ─  ─  ─  ─  ─  ─  ─  ─  ─  ─  ─  ─ \n"
     ]
    }
   ],
   "source": [
    "print(' ─ ' * 30)"
   ]
  },
  {
   "cell_type": "code",
   "execution_count": 13,
   "id": "2667cd35",
   "metadata": {},
   "outputs": [
    {
     "name": "stdout",
     "output_type": "stream",
     "text": [
      "The video with the most likes:  Luis Fonsi - Despacito ft. Daddy Yankee  - 46525492\n",
      "The video with the least likes:  Maroon 5 - Sugar (Official Music Video)  - 14053949\n",
      "AVG number of likes:  22433062.6\n"
     ]
    }
   ],
   "source": [
    "#likes:\n",
    "#The video with the most likes\n",
    "print('The video with the most likes: ',Best['name'].loc[Best['likes'].idxmax()],' -',Best['likes'].max())\n",
    "#The video with the least likes\n",
    "print('The video with the least likes: ',Best['name'].loc[Best['likes'].idxmin()],' -',Best['likes'].min())\n",
    "#AVG number of likes\n",
    "print('AVG number of likes: ',Best['likes'].mean())"
   ]
  },
  {
   "cell_type": "code",
   "execution_count": 14,
   "id": "3fe87f7b",
   "metadata": {},
   "outputs": [
    {
     "data": {
      "image/png": "[encoded data removed]",
      "text/plain": [
       "<Figure size 648x360 with 1 Axes>"
      ]
     },
     "metadata": {
      "needs_background": "light"
     },
     "output_type": "display_data"
    }
   ],
   "source": [
    "fig = plt.figure(figsize = (9, 5))\n",
    "Best['likes'].plot.bar(color ='maroon')\n",
    "plt.xlabel(\"rank\")\n",
    "plt.ylabel(\"No. of likes In millions\")\n",
    "plt.title(\"No. of likes according to the ranking\")\n",
    "plt.show()"
   ]
  },
  {
   "cell_type": "code",
   "execution_count": 15,
   "id": "1256303a",
   "metadata": {},
   "outputs": [
    {
     "name": "stdout",
     "output_type": "stream",
     "text": [
      " ─  ─  ─  ─  ─  ─  ─  ─  ─  ─  ─  ─  ─  ─  ─  ─  ─  ─  ─  ─  ─  ─  ─  ─  ─  ─  ─  ─  ─  ─ \n"
     ]
    }
   ],
   "source": [
    "print(' ─ ' * 30)"
   ]
  },
  {
   "cell_type": "code",
   "execution_count": 16,
   "id": "0216c261",
   "metadata": {},
   "outputs": [
    {
     "name": "stdout",
     "output_type": "stream",
     "text": [
      "The video with the most dislikes:  Luis Fonsi - Despacito ft. Daddy Yankee  - 5187451\n",
      "The video with the least dislikes:  OneRepublic - Counting Stars (Official Music Video)  - 447189\n",
      "AVG number of dislikes:  2029262.4\n"
     ]
    }
   ],
   "source": [
    "#dislikes:\n",
    "#The video with the most dislikes\n",
    "print('The video with the most dislikes: ',Best['name'].loc[Best['dislikes'].idxmax()],' -',Best['dislikes'].max())\n",
    "#The video with the least dislikes\n",
    "print('The video with the least dislikes: ',Best['name'].loc[Best['dislikes'].idxmin()],' -',Best['dislikes'].min())\n",
    "#AVG number of dislikes\n",
    "print('AVG number of dislikes: ',Best['dislikes'].mean())"
   ]
  },
  {
   "cell_type": "code",
   "execution_count": 17,
   "id": "e9131574",
   "metadata": {},
   "outputs": [
    {
     "data": {
      "image/png": "[encoded data removed]",
      "text/plain": [
       "<Figure size 576x576 with 1 Axes>"
      ]
     },
     "metadata": {
      "needs_background": "light"
     },
     "output_type": "display_data"
    }
   ],
   "source": [
    "fig, ax = plt.subplots(figsize=(8,8))\n",
    "df=Best.sort_values(['rank'], ascending=False).drop(['rank','date','name','date','views','channel','comments','subscribers'],axis=1)\n",
    "plt.style.use('ggplot')\n",
    "df.plot.barh(ax=ax, width = 0.7)\n",
    "plt.title('Likes VS Dislikes for each song')\n",
    "plt.ylabel('rank')\n",
    "plt.xlabel('likes / dislikes In millions')\n",
    "plt.show()"
   ]
  },
  {
   "cell_type": "code",
   "execution_count": 18,
   "id": "0d79c18c",
   "metadata": {},
   "outputs": [
    {
     "data": {
      "image/png": "[encoded data removed]",
      "text/plain": [
       "<Figure size 648x360 with 1 Axes>"
      ]
     },
     "metadata": {},
     "output_type": "display_data"
    }
   ],
   "source": [
    "fig = plt.figure(figsize = (9, 5))\n",
    "data = Best['likes']\n",
    "mean = Best['likes'].mean()\n",
    "std = Best['likes'].std()\n",
    "min_value = Best['likes'].min()\n",
    "max_value = Best['likes'].max()\n",
    "\n",
    "plt.title(\"likes according to the ranking, standard deviation line\")\n",
    "plt.ylim(min_value - 5000000, max_value + 5000000)\n",
    "plt.scatter(x=Best['rank'], y=Best['likes'], color='blue')\n",
    "plt.hlines(y=mean, xmin=0, xmax=10)\n",
    "plt.show()"
   ]
  },
  {
   "cell_type": "code",
   "execution_count": 19,
   "id": "50b3ac33",
   "metadata": {},
   "outputs": [
    {
     "name": "stdout",
     "output_type": "stream",
     "text": [
      " ─  ─  ─  ─  ─  ─  ─  ─  ─  ─  ─  ─  ─  ─  ─  ─  ─  ─  ─  ─  ─  ─  ─  ─  ─  ─  ─  ─  ─  ─ \n"
     ]
    }
   ],
   "source": [
    "print(' ─ ' * 30)"
   ]
  },
  {
   "cell_type": "code",
   "execution_count": 20,
   "id": "a606fe87",
   "metadata": {},
   "outputs": [
    {
     "name": "stdout",
     "output_type": "stream",
     "text": [
      "The video with the most comments:  PSY - GANGNAM STYLE(강남스타일) M/V  - 5289442\n",
      "The video with the least comments:  Maroon 5 - Sugar (Official Music Video)  - 407163\n",
      "AVG number of comments:  1635932.2\n"
     ]
    }
   ],
   "source": [
    "#comments:\n",
    "#The video with the most comments\n",
    "print('The video with the most comments: ',Best['name'].loc[Best['comments'].idxmax()],' -',Best['comments'].max() )\n",
    "#The video with the least comments\n",
    "print('The video with the least comments: ',Best['name'].loc[Best['comments'].idxmin()],' -',Best['comments'].min())\n",
    "#AVG number of comments\n",
    "print('AVG number of comments: ',Best['comments'].mean())"
   ]
  },
  {
   "cell_type": "code",
   "execution_count": 21,
   "id": "a966ccf7",
   "metadata": {},
   "outputs": [
    {
     "data": {
      "image/png": "[encoded data removed]",
      "text/plain": [
       "<Figure size 576x432 with 1 Axes>"
      ]
     },
     "metadata": {},
     "output_type": "display_data"
    }
   ],
   "source": [
    "Best['comments'].plot(kind='bar',  fontsize=10, figsize=(8, 6), color='blue')\n",
    "plt.title('comments for each song')\n",
    "plt.ylabel('comments in millions')\n",
    "plt.xlabel('rank')\n",
    "plt.show()"
   ]
  },
  {
   "cell_type": "code",
   "execution_count": 22,
   "id": "420327df",
   "metadata": {},
   "outputs": [
    {
     "name": "stdout",
     "output_type": "stream",
     "text": [
      " ─  ─  ─  ─  ─  ─  ─  ─  ─  ─  ─  ─  ─  ─  ─  ─  ─  ─  ─  ─  ─  ─  ─  ─  ─  ─  ─  ─  ─  ─ \n"
     ]
    }
   ],
   "source": [
    "print(' ─ ' * 30)"
   ]
  },
  {
   "cell_type": "code",
   "execution_count": 23,
   "id": "384c862c",
   "metadata": {},
   "outputs": [
    {
     "name": "stdout",
     "output_type": "stream",
     "text": [
      "The channel with the most subscribers:  Justin Bieber  - 6609999\n",
      "The channel with the least subscribers:  Mark Ronson  - 626000\n",
      "AVG number of subscribers:  3068899.7\n",
      "The 3 channels with the least subscribers:  subscribers\n",
      "626000     Mark Ronson\n",
      "952999     OneRepublic\n",
      "1520000    officialpsy\n",
      "Name: channel, dtype: object\n"
     ]
    }
   ],
   "source": [
    "#channel subscribers\n",
    "#The channel with the most subscribers\n",
    "print('The channel with the most subscribers: ',Best['channel'].loc[Best['subscribers'].idxmax()],' -',Best['subscribers'].max())\n",
    "#The channel with the least subscribers\n",
    "print('The channel with the least subscribers: ',Best['channel'].loc[Best['subscribers'].idxmin()],' -',Best['subscribers'].min())\n",
    "#AVG number of subscribers\n",
    "print('AVG number of subscribers: ',Best['subscribers'].mean())\n",
    "#The video with the least subscribers\n",
    "print('The 3 channels with the least subscribers: ',Best.groupby('subscribers')['channel'].min().head(3))"
   ]
  },
  {
   "cell_type": "code",
   "execution_count": 28,
   "id": "0ae882b4",
   "metadata": {},
   "outputs": [
    {
     "data": {
      "image/png": "[encoded data removed]",
      "text/plain": [
       "<Figure size 432x288 with 1 Axes>"
      ]
     },
     "metadata": {},
     "output_type": "display_data"
    }
   ],
   "source": [
    "Best.plot(kind='barh',x='name',y='subscribers')\n",
    "plt.title('subscribers for each song')\n",
    "plt.ylabel('name')\n",
    "plt.xlabel('subscribers in millions')\n",
    "plt.rc('axes', unicode_minus=False)\n",
    "plt.show()"
   ]
  },
  {
   "cell_type": "code",
   "execution_count": 25,
   "id": "f51bcb9f",
   "metadata": {},
   "outputs": [
    {
     "data": {
      "image/png": "[encoded data removed]",
      "text/plain": [
       "<Figure size 576x576 with 1 Axes>"
      ]
     },
     "metadata": {},
     "output_type": "display_data"
    }
   ],
   "source": [
    "fig, ax = plt.subplots(figsize=(8,8))\n",
    "df=Best.sort_values(['rank'], ascending=False).drop(['rank','date','name','date','views','channel','likes','dislikes'],axis=1)\n",
    "plt.style.use('ggplot')\n",
    "df.plot.barh(ax=ax, width = 0.7)\n",
    "plt.title('subscribers and comments')\n",
    "plt.ylabel('rank')\n",
    "plt.xlabel('subscribers and comments')\n",
    "plt.show()"
   ]
  }
 ],
 "metadata": {
  "kernelspec": {
   "display_name": "Python 3",
   "language": "python",
   "name": "python3"
  },
  "language_info": {
   "codemirror_mode": {
    "name": "ipython",
    "version": 3
   },
   "file_extension": ".py",
   "mimetype": "text/x-python",
   "name": "python",
   "nbconvert_exporter": "python",
   "pygments_lexer": "ipython3",
   "version": "3.6.13"
  }
 },
 "nbformat": 4,
 "nbformat_minor": 5
}
